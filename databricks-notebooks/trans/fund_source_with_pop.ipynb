{
 "cells": [
  {
   "cell_type": "code",
   "execution_count": null,
   "metadata": {},
   "outputs": [],
   "source": [
    "# Include shared notebooks\n",
    "%run \"../includes/configuration.ipynb\"\n",
    "%run \"../includes/common_functions.ipynb\""
   ]
  },
  {
   "cell_type": "code",
   "execution_count": null,
   "metadata": {},
   "outputs": [],
   "source": [
    "# rename to differentiate columns from population file\n",
    "expnd_df = spark.read.format(\"parquet\").load(f\"{processed_folder_path}/expenditure\") \\\n",
    ".withColumnRenamed(\"eofy\", \"end_of_fy\") \\\n",
    ".withColumnRenamed(\"jurisdiction\", \"expnd_jurisdiction\")"
   ]
  },
  {
   "cell_type": "code",
   "execution_count": null,
   "metadata": {},
   "outputs": [],
   "source": [
    "# aggregate by year, state, and source_of_funds\n",
    "from pyspark.sql.functions import sum\n",
    "\n",
    "fund_source_df = expnd_df \\\n",
    "    .groupBy(\"year\", \"expnd_jurisdiction\", \"source_of_funds\", \"end_of_fy\") \\\n",
    "    .agg(sum(\"current_amount\").alias(\"total_amount\"))"
   ]
  },
  {
   "cell_type": "code",
   "execution_count": null,
   "metadata": {},
   "outputs": [],
   "source": [
    "# load population file with selected columns\n",
    "pop_df = spark.read.format(\"parquet\").load(f\"{processed_folder_path}/population\") \\\n",
    ".withColumnRenamed(\"jurisdiction\", \"pop_jurisdiction\")"
   ]
  },
  {
   "cell_type": "code",
   "execution_count": null,
   "metadata": {},
   "outputs": [],
   "source": [
    "# join dfs\n",
    "join_condition = [ fund_source_df.end_of_fy == pop_df.Time, fund_source_df.expnd_jurisdiction == pop_df.pop_jurisdiction ]\n",
    "fund_source_with_pop_df = fund_source_df.join(pop_df, join_condition)"
   ]
  },
  {
   "cell_type": "code",
   "execution_count": null,
   "metadata": {},
   "outputs": [],
   "source": [
    "# add calculated column amount_per_person, and created_date column\n",
    "from pyspark.sql.functions import current_timestamp, expr\n",
    "\n",
    "final_df = fund_source_with_pop_df \\\n",
    "                .withColumn(\"amount_per_person\", expr(\"total_amount / population\")) \\\n",
    "                .withColumn(\"created_date\", current_timestamp())"
   ]
  },
  {
   "cell_type": "code",
   "execution_count": null,
   "metadata": {},
   "outputs": [],
   "source": [
    "#write the result file to presentation layer\n",
    "final_df.write.mode(\"overwrite\").parquet(f\"{presentation_folder_path}/fund_source_with_pop\")"
   ]
  }
 ],
 "metadata": {
  "language_info": {
   "name": "python"
  }
 },
 "nbformat": 4,
 "nbformat_minor": 2
}
